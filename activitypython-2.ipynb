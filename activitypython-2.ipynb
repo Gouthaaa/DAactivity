{
 "cells": [
  {
   "cell_type": "markdown",
   "metadata": {},
   "source": [
    "1.Write a function is_palindrome(s) that returns True if the input string s is a palindrome (reads the same forward and backward) and False otherwise.\n",
    "\"madam\"     # Output: True\n",
    "\"hello\"   # Output: False\n",
    "\"racecar\"   # Output: True\n"
   ]
  },
  {
   "cell_type": "code",
   "execution_count": 2,
   "metadata": {},
   "outputs": [
    {
     "name": "stdout",
     "output_type": "stream",
     "text": [
      "True\n",
      "False\n",
      "True\n"
     ]
    }
   ],
   "source": [
    "def is_palindrome(s):\n",
    "    return s== s[::-1]\n",
    "print(is_palindrome (\"madam\"))\n",
    "print(is_palindrome (\"hello\"))\n",
    "print(is_palindrome (\"racecar\"))\n",
    "\n",
    "\n",
    "\n",
    "\n",
    "    "
   ]
  },
  {
   "cell_type": "markdown",
   "metadata": {},
   "source": [
    "2.Write a function find_largest(lst) that takes a list of numbers and returns the largest number.\n",
    "numbers = [10, 20, 5, 8, 25, 3]\n"
   ]
  },
  {
   "cell_type": "code",
   "execution_count": 4,
   "metadata": {},
   "outputs": [
    {
     "name": "stdout",
     "output_type": "stream",
     "text": [
      "25\n"
     ]
    }
   ],
   "source": [
    "def find_largest(lst):\n",
    "    if not lst:\n",
    "        return None  \n",
    "    largest = lst[0]\n",
    "    for num in lst:\n",
    "        if num > largest:\n",
    "            largest = num\n",
    "    return largest\n",
    "numbers = [10, 20, 5, 8, 25, 3]\n",
    "print(find_largest(numbers))  # Output: 25\n"
   ]
  },
  {
   "cell_type": "markdown",
   "metadata": {},
   "source": [
    "3.Write a function count_vowels(s) that returns the number of vowels (a, e, i, o, u) in the given string.\n",
    "(\"Hello World\"))   # Output: 3\n",
    "(\"Python\"))        # Output: 1\n",
    "(\"Beautiful Day\")) # Output: 6"
   ]
  },
  {
   "cell_type": "code",
   "execution_count": 5,
   "metadata": {},
   "outputs": [
    {
     "name": "stdout",
     "output_type": "stream",
     "text": [
      "3\n",
      "1\n",
      "6\n"
     ]
    }
   ],
   "source": [
    "def count_vowels(s):\n",
    "    s = s.lower()\n",
    "    vowels = {'a', 'e', 'i', 'o', 'u'}\n",
    "    count = 0\n",
    "    for char in s:\n",
    "        if char in vowels:\n",
    "            count += 1\n",
    "    return count\n",
    "\n",
    "print(count_vowels(\"Hello World\"))   # Output: 3\n",
    "print(count_vowels(\"Python\"))        # Output: 1\n",
    "print(count_vowels(\"Beautiful Day\")) # Output: 6\n"
   ]
  }
 ],
 "metadata": {
  "kernelspec": {
   "display_name": ".venv",
   "language": "python",
   "name": "python3"
  },
  "language_info": {
   "codemirror_mode": {
    "name": "ipython",
    "version": 3
   },
   "file_extension": ".py",
   "mimetype": "text/x-python",
   "name": "python",
   "nbconvert_exporter": "python",
   "pygments_lexer": "ipython3",
   "version": "3.13.0"
  }
 },
 "nbformat": 4,
 "nbformat_minor": 2
}
